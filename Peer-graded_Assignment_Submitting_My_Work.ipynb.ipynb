{
 "cells": [
  {
   "cell_type": "markdown",
   "id": "e279d3a2-7377-43d8-9338-c3e546a154e0",
   "metadata": {},
   "source": [
    "<h1>Exercise 1: Create a Jupyter Notebook</h1>"
   ]
  },
  {
   "metadata": {},
   "cell_type": "markdown",
   "source": "<strong>Exercise 2 - Create a markdown cell with the title of the notebook.</strong> <h2><strong>Name:</strong> Peer Graded assignement </h2>\n",
   "id": "fbe3312d-1bc3-4a88-9f0c-b3c4b32e71ef"
  },
  {
   "metadata": {},
   "cell_type": "markdown",
   "source": "",
   "id": "98e561205bdb66d"
  },
  {
   "metadata": {},
   "cell_type": "markdown",
   "source": [
    "<strong>Exercise 3 - Create a markdown cell for an introduction. (1 pt)</strong>\n",
    "\n",
    "# Introduction to Data Science and Jupyter Notebooks \n",
    "\n",
    "Data science is a multidisciplinary field that utilizes various techniques from statistics, mathematics, and computer science to extract insights and knowledge from structured and unstructured data. It plays a crucial role in decision-making across industries, enabling organizations to harness the power of data for better outcomes.\n",
    "\n",
    "Jupyter Notebooks are an essential tool for data scientists, providing an interactive environment for writing and sharing code. They support various programming languages, including Python, R, and Julia, and allow users to combine code execution, rich text, and visualizations in a single document. This makes Jupyter Notebooks ideal for exploratory data analysis, visualization, and collaborative projects, facilitating a seamless workflow from data processing to presentation.\n"
   ],
   "id": "a5b74512-a6ff-4dd2-89cc-d493d3bfd9fe"
  },
  {
   "cell_type": "markdown",
   "id": "6015b630-954a-4096-bfc0-dc28b53a378c",
   "metadata": {},
   "source": [
    "<strong>Exercise 4 - Create a markdown cell to list data science languages. (3 pts)</strong>\n",
    "\n",
    "# Data Science Languages\n",
    "\n",
    "Data science involves a variety of programming languages, each offering unique features and libraries for data manipulation, analysis, and visualization. Here are some of the most popular languages used in data science:\n",
    "\n",
    "1. **Python**  \n",
    "   - Widely used for its simplicity and readability.\n",
    "   - Rich ecosystem of libraries (e.g., Pandas, NumPy, Matplotlib, Scikit-learn).\n",
    "\n",
    "2. **R**  \n",
    "   - Designed for statistical analysis and data visualization.\n",
    "   - Strong package ecosystem (e.g., ggplot2, dplyr, tidyr).\n",
    "\n",
    "3. **SQL**  \n",
    "   - Essential for database management and querying structured data.\n",
    "   - Used for data extraction and manipulation in relational databases.\n",
    "\n",
    "4. **Julia**  \n",
    "   - High-performance language for numerical and scientific computing.\n",
    "   - Combines ease of use with speed, making it suitable for complex computations.\n",
    "\n",
    "5. **SAS**  \n",
    "   - Specialized in advanced analytics, business intelligence, and data management.\n",
    "   - Commonly used in corporate environments.\n",
    "\n",
    "6. **Scala**  \n",
    "   - Often used with Apache Spark for big data processing.\n",
    "   - Combines functional and object-oriented programming.\n",
    "\n",
    "7. **MATLAB**  \n",
    "   - Popular in academia and engineering for numerical computing.\n",
    "   - Offers built-in functions for data analysis and visualization.\n",
    "\n",
    "These languages are frequently used in conjunction with various tools and frameworks to build robust data science applications.\n"
   ]
  },
  {
   "cell_type": "markdown",
   "id": "2e054783-ae15-402a-8391-6fbb81ec784a",
   "metadata": {},
   "source": [
    "<strong>Exercise 5 - Create a markdown cell to list data science libraries. (3 pts)</strong>\n",
    "\n",
    "# Data Science Libraries\n",
    "\n",
    "Data science libraries provide pre-built functions and tools to simplify data manipulation, analysis, and visualization. Here are some of the most widely used libraries across different programming languages:\n",
    "\n",
    "## Python Libraries\n",
    "\n",
    "1. **Pandas**  \n",
    "   - Data manipulation and analysis, providing data structures like DataFrames.\n",
    "\n",
    "2. **NumPy**  \n",
    "   - Support for large, multi-dimensional arrays and matrices, along with mathematical functions.\n",
    "\n",
    "3. **Matplotlib**  \n",
    "   - Comprehensive library for creating static, animated, and interactive visualizations.\n",
    "\n",
    "4. **Seaborn**  \n",
    "   - Statistical data visualization based on Matplotlib, with easier syntax and beautiful default styles.\n",
    "\n",
    "5. **Scikit-learn**  \n",
    "   - Machine learning library offering tools for classification, regression, clustering, and more.\n",
    "\n",
    "6. **TensorFlow**  \n",
    "   - Open-source library for numerical computation and machine learning, particularly deep learning.\n",
    "\n",
    "7. **Keras**  \n",
    "   - High-level neural networks API that runs on top of TensorFlow, making deep learning easier.\n",
    "\n",
    "## R Libraries\n",
    "\n",
    "1. **ggplot2**  \n",
    "   - Data visualization package that implements the Grammar of Graphics for creating complex plots.\n",
    "\n",
    "2. **dplyr**  \n",
    "   - A grammar of data manipulation, providing a consistent set of verbs for data transformation.\n",
    "\n",
    "3. **tidyr**  \n",
    "   - Tools for tidying data, making it easier to work with.\n",
    "\n",
    "4. **caret**  \n",
    "   - A unified interface for building machine learning models and data preprocessing.\n",
    "\n",
    "5. **shiny**  \n",
    "   - Framework for building interactive web applications directly from R.\n",
    "\n",
    "## Other Libraries\n",
    "\n",
    "1. **Apache Spark (PySpark)**  \n",
    "   - A unified analytics engine for big data processing with APIs in Python, R, and Scala.\n",
    "\n",
    "2. **H2O.ai**  \n",
    "   - Open-source platform for machine learning and data analysis that supports multiple languages.\n",
    "\n",
    "3. **Plotly**  \n",
    "   - Interactive graphing library for creating visualizations in Python and R.\n",
    "\n",
    "These libraries significantly enhance productivity and capabilities in data science projects, allowing practitioners to focus on analysis and\n"
   ]
  },
  {
   "cell_type": "markdown",
   "id": "22f68c77-7e82-427a-8e8d-12c0a609989a",
   "metadata": {},
   "source": [
    "<strong>Exercise 6 - Create a markdown cell with a table of Data Science tools. (3 pts)</strong>\n",
    "\n",
    "# Data Science Tools\n",
    "\n",
    "The following table lists some popular data science tools, categorized by their primary use case:\n",
    "\n",
    "| Tool              | Category           | Description                                                |\n",
    "|-------------------|--------------------|------------------------------------------------------------|\n",
    "| **Jupyter Notebook** | Development Environment | An interactive coding environment for data analysis and visualization. |\n",
    "| **RStudio**       | Development Environment | An integrated development environment (IDE) for R.         |\n",
    "| **Apache Spark**  | Big Data Processing | A unified analytics engine for big data processing.         |\n",
    "| **Tableau**       | Data Visualization  | A powerful tool for creating interactive and shareable dashboards. |\n",
    "| **Power BI**      | Data Visualization  | Business analytics tool for visualizing data and sharing insights. |\n",
    "| **Excel**         | Data Analysis       | Spreadsheet software widely used for data analysis and visualization. |\n",
    "| **Git**           | Version Control     | A version control system for tracking changes in code and collaboration. |\n",
    "| **Docker**        | Containerization    | Tool for packaging applications and dependencies into containers for reproducibility. |\n",
    "| **Anaconda**      | Package Management  | A distribution for Python and R that simplifies package management and deployment. |\n",
    "| **Google Colab**  | Cloud-based Environment | A cloud-based Jupyter notebook environment that allows free access to GPUs. |\n",
    "\n",
    "These tools play a crucial role in the data science workflow, enabling data scientists to analyze data efficiently and collaboratively.\n"
   ]
  },
  {
   "cell_type": "markdown",
   "id": "0ff5d698-28c6-4af7-9fbf-3c8aeac5c162",
   "metadata": {},
   "source": [
    "<strong>Exercise 7 - Create a markdown cell introducing arithmetic expression examples. (1 pt)</strong>\n",
    "\n",
    "# Introduction to Arithmetic Expressions\n",
    "\n",
    "Arithmetic expressions are fundamental in programming and data science, allowing us to perform calculations on numerical data. These expressions can include various operators, such as addition, subtraction, multiplication, and division. Understanding how to construct and evaluate arithmetic expressions is essential for data manipulation, analysis, and modeling.\n",
    "\n",
    "In the following examples, we'll explore basic arithmetic operations:\n",
    "\n",
    "1. **Addition (+)**: Combines two numbers to produce a sum.\n",
    "   - Example: \\( 5 + 3 = 8 \\)\n",
    "\n",
    "2. **Subtraction (-)**: Computes the difference between two numbers.\n",
    "   - Example: \\( 10 - 4 = 6 \\)\n",
    "\n",
    "3. **Multiplication (*)**: Calculates the product of two numbers.\n",
    "   - Example: \\( 7 \\times 6 = 42 \\)\n",
    "\n",
    "4. **Division (/)**: Divides one number by another to produce a quotient.\n",
    "   - Example: \\( 20 / 4 = 5 \\)\n",
    "\n",
    "5. **Modulus (%)**: Returns the remainder of a division operation.\n",
    "   - Example: \\( 17 \\mod 5 = 2 \\)\n",
    "\n",
    "These operations can be combined to create more complex expressions, which are vital in data science for performing calculations on datasets and deriving insights from them.\n"
   ]
  },
  {
   "metadata": {},
   "cell_type": "markdown",
   "source": [
    "<strong> Exercise 8 - Create a code cell to multiply and add numbers.\n",
    "\n"
   ],
   "id": "8b113ec548032cad"
  },
  {
   "metadata": {
    "ExecuteTime": {
     "end_time": "2024-09-18T21:49:53.127050Z",
     "start_time": "2024-09-18T21:49:53.121635Z"
    }
   },
   "cell_type": "code",
   "source": [
    "# Define the numbers\n",
    "a = 5\n",
    "b = 10\n",
    "c = 3\n",
    "\n",
    "# Perform multiplication\n",
    "multiplication_result = a * b\n",
    "\n",
    "# Perform addition\n",
    "addition_result = multiplication_result + c\n",
    "\n",
    "# Display the results\n",
    "multiplication_result, addition_result\n"
   ],
   "id": "a292d72a36e35fbb",
   "outputs": [
    {
     "data": {
      "text/plain": [
       "(50, 53)"
      ]
     },
     "execution_count": 1,
     "metadata": {},
     "output_type": "execute_result"
    }
   ],
   "execution_count": 1
  },
  {
   "metadata": {},
   "cell_type": "markdown",
   "source": "<strong> Exercise 9 - Create a code cell to convert minutes to hours. (2 pts)",
   "id": "eef185991f7b4c3c"
  },
  {
   "metadata": {},
   "cell_type": "code",
   "outputs": [],
   "execution_count": null,
   "source": [
    "# Function to convert minutes to hours\n",
    "def convert_minutes_to_hours(minutes):\n",
    "    hours = minutes / 60\n",
    "    return hours\n",
    "\n",
    "# Example: Convert 120 minutes to hours\n",
    "minutes = 120\n",
    "hours = convert_minutes_to_hours(minutes)\n",
    "\n",
    "# Display the result\n",
    "hours\n"
   ],
   "id": "a0b38aeda6e1a112"
  },
  {
   "metadata": {},
   "cell_type": "markdown",
   "source": "",
   "id": "1cec2194c8da25c9"
  },
  {
   "metadata": {},
   "cell_type": "markdown",
   "source": [
    "<strong> Exercise 10 -Insert a markdown cell to list Objectives. (3 pts)\n",
    "\n",
    "# Objectives\n",
    "\n",
    "In this exercise, we aim to achieve the following objectives:\n",
    "\n",
    "1. **Understand Basic Arithmetic Operations**  \n",
    "   Learn how to perform fundamental arithmetic operations such as addition, subtraction, multiplication, and division using programming.\n",
    "\n",
    "2. **Implement Function for Unit Conversion**  \n",
    "   Develop a function to convert units, specifically converting minutes into hours, to illustrate the application of functions in programming.\n",
    "\n",
    "3. **Enhance Coding Skills**  \n",
    "   Practice writing clean and efficient code, while also reinforcing the importance of modularity through the use of functions.\n"
   ],
   "id": "efcfc05e21a35ce2"
  },
  {
   "metadata": {},
   "cell_type": "markdown",
   "source": [
    "Exercise 11 - Create a markdown cell to indicate the Author’s name. (2 pts)\n",
    "\n",
    "# Author\n",
    "\n",
    "This notebook was created by **Carlos Rueda**.\n"
   ],
   "id": "88dc6d901885d504"
  },
  {
   "metadata": {},
   "cell_type": "code",
   "outputs": [],
   "execution_count": null,
   "source": "",
   "id": "93e46f3986c2230f"
  }
 ],
 "metadata": {
  "kernelspec": {
   "display_name": "Python 3 (ipykernel)",
   "language": "python",
   "name": "python3"
  },
  "language_info": {
   "codemirror_mode": {
    "name": "ipython",
    "version": 3
   },
   "file_extension": ".py",
   "mimetype": "text/x-python",
   "name": "python",
   "nbconvert_exporter": "python",
   "pygments_lexer": "ipython3",
   "version": "3.7.12"
  }
 },
 "nbformat": 4,
 "nbformat_minor": 5
}
